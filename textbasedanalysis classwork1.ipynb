{
 "cells": [
  {
   "cell_type": "markdown",
   "id": "f20161f6",
   "metadata": {},
   "source": [
    "# BASIC STRING OPERATIONS\n"
   ]
  },
  {
   "cell_type": "code",
   "execution_count": 1,
   "id": "6de0a86a",
   "metadata": {},
   "outputs": [
    {
     "name": "stdout",
     "output_type": "stream",
     "text": [
      "hello\n"
     ]
    }
   ],
   "source": [
    "a=\"hello\"\n",
    "print(a)"
   ]
  },
  {
   "cell_type": "markdown",
   "id": "74d8c3fb",
   "metadata": {},
   "source": [
    "# LENGTH OF STRING"
   ]
  },
  {
   "cell_type": "code",
   "execution_count": 2,
   "id": "be99a2f6",
   "metadata": {},
   "outputs": [
    {
     "name": "stdout",
     "output_type": "stream",
     "text": [
      "12\n",
      "HELLO,WORLD!\n"
     ]
    }
   ],
   "source": [
    "a=\"Hello,World!\"\n",
    "print(len(a)) #it will return how many letters are there in a string \n",
    "print(a.upper()) #this will make all letters to uppercase"
   ]
  },
  {
   "cell_type": "markdown",
   "id": "2e3cbc9e",
   "metadata": {},
   "source": [
    "# JOINING TWO STRINGS"
   ]
  },
  {
   "cell_type": "code",
   "execution_count": 4,
   "id": "788a0d16",
   "metadata": {
    "scrolled": true
   },
   "outputs": [
    {
     "name": "stdout",
     "output_type": "stream",
     "text": [
      "Hello World\n"
     ]
    }
   ],
   "source": [
    "a=\"Hello\"\n",
    "b=\"World\"\n",
    "c=a+\" \"+b #we are joining two strings\n",
    "print(c)"
   ]
  },
  {
   "cell_type": "code",
   "execution_count": 6,
   "id": "0b3a1002",
   "metadata": {},
   "outputs": [
    {
     "name": "stdout",
     "output_type": "stream",
     "text": [
      "True\n"
     ]
    }
   ],
   "source": [
    "a=\"praveen\"\n",
    "print(a.isalnum()) #checking whether it is alphanumeric or not\n"
   ]
  },
  {
   "cell_type": "code",
   "execution_count": 7,
   "id": "6a49378d",
   "metadata": {},
   "outputs": [
    {
     "name": "stdout",
     "output_type": "stream",
     "text": [
      "True\n"
     ]
    }
   ],
   "source": [
    "a=\"praveen\"\n",
    "print(a.isalpha()) # returns True if all the characters are alphabet letters.\n"
   ]
  },
  {
   "cell_type": "code",
   "execution_count": 9,
   "id": "84dcd4d0",
   "metadata": {},
   "outputs": [
    {
     "name": "stdout",
     "output_type": "stream",
     "text": [
      "False\n"
     ]
    }
   ],
   "source": [
    "a=\"praveen\"\n",
    "print(a.isspace()) # returns True if all the characters in a string are whitespaces, otherwise False.\n"
   ]
  },
  {
   "cell_type": "code",
   "execution_count": 10,
   "id": "e42501ba",
   "metadata": {},
   "outputs": [
    {
     "name": "stdout",
     "output_type": "stream",
     "text": [
      "False\n"
     ]
    }
   ],
   "source": [
    "a=\"praveen\"\n",
    "print(a.isupper()) #returns True if all the characters are in upper case, otherwise False"
   ]
  },
  {
   "cell_type": "code",
   "execution_count": 11,
   "id": "49afdb9c",
   "metadata": {},
   "outputs": [
    {
     "name": "stdout",
     "output_type": "stream",
     "text": [
      "False\n"
     ]
    }
   ],
   "source": [
    "a=\"praveen\"\n",
    "print(a.isdigit()) #returns True if all the characters are digits, otherwise False"
   ]
  },
  {
   "cell_type": "code",
   "execution_count": 12,
   "id": "4e78591c",
   "metadata": {},
   "outputs": [
    {
     "name": "stdout",
     "output_type": "stream",
     "text": [
      "praveen\n"
     ]
    }
   ],
   "source": [
    "a=\"praveen\"\n",
    "print(a.lstrip()) #returns a copy of the string with leading characters removed"
   ]
  },
  {
   "cell_type": "code",
   "execution_count": 14,
   "id": "1ac367f2",
   "metadata": {},
   "outputs": [
    {
     "name": "stdout",
     "output_type": "stream",
     "text": [
      "praveen\n"
     ]
    }
   ],
   "source": [
    "a=\"praveen\"\n",
    "print(a.rstrip()) # removes all the trailing characters from the string"
   ]
  },
  {
   "cell_type": "code",
   "execution_count": 17,
   "id": "015bca85",
   "metadata": {},
   "outputs": [
    {
     "name": "stdout",
     "output_type": "stream",
     "text": [
      "praveen\n"
     ]
    }
   ],
   "source": [
    "a=\"praveen\"\n",
    "print(a.rstrip())"
   ]
  },
  {
   "cell_type": "code",
   "execution_count": 20,
   "id": "3a9f0454",
   "metadata": {},
   "outputs": [
    {
     "name": "stdout",
     "output_type": "stream",
     "text": [
      "8\n"
     ]
    }
   ],
   "source": [
    "a=\"praveen kumar\"\n",
    "print(a.find(\"kumar\")) #find the index of the first occurrence of a substring from the given string"
   ]
  },
  {
   "cell_type": "code",
   "execution_count": 21,
   "id": "4fa9fe47",
   "metadata": {},
   "outputs": [
    {
     "name": "stdout",
     "output_type": "stream",
     "text": [
      "praveen reddy\n"
     ]
    }
   ],
   "source": [
    "a=\"praveen kumar\"\n",
    "print(a.replace(\"kumar\",\"reddy\")) #replacing a single character or substring with a new character/substring"
   ]
  },
  {
   "cell_type": "code",
   "execution_count": 22,
   "id": "56167fc9",
   "metadata": {},
   "outputs": [
    {
     "name": "stdout",
     "output_type": "stream",
     "text": [
      "['praveen']\n"
     ]
    }
   ],
   "source": [
    "a=\"praveen\"\n",
    "print(a.split()) # splits a string into a list"
   ]
  },
  {
   "cell_type": "code",
   "execution_count": 23,
   "id": "dcb2fe5f",
   "metadata": {},
   "outputs": [
    {
     "data": {
      "text/plain": [
       "['One', 'two', 'three', 'four']"
      ]
     },
     "execution_count": 23,
     "metadata": {},
     "output_type": "execute_result"
    }
   ],
   "source": [
    "my_string = 'One two three four'\n",
    "word_list = my_string.split()\n",
    "word_list"
   ]
  },
  {
   "cell_type": "markdown",
   "id": "5890ab2a",
   "metadata": {},
   "source": [
    "# REGEX FUNCTIONS"
   ]
  },
  {
   "cell_type": "code",
   "execution_count": 28,
   "id": "9f6aa872",
   "metadata": {},
   "outputs": [
    {
     "data": {
      "text/plain": [
       "['abc', 'abc', 'abc', 'abc', 'abc']"
      ]
     },
     "execution_count": 28,
     "metadata": {},
     "output_type": "execute_result"
    }
   ],
   "source": [
    "import regex as re\n",
    "def tokenize(text):\n",
    "    return re.findall(r'abc', text)\n",
    "x = tokenize(\"abcd 45abc abc% abc.com acbrx .=.abc.=. ab c cba ABC \")\n",
    "x"
   ]
  },
  {
   "cell_type": "code",
   "execution_count": 29,
   "id": "49053267",
   "metadata": {},
   "outputs": [
    {
     "data": {
      "text/plain": [
       "['gooey', 'moody', 'roody', 'goofy', 'loopy']"
      ]
     },
     "execution_count": 29,
     "metadata": {},
     "output_type": "execute_result"
    }
   ],
   "source": [
    "import regex as re\n",
    "def tokenize(text):\n",
    "    return re.findall(r'.oo.y', text)\n",
    "x = tokenize(\" abcd gooey moody broody goofy gummy mooooudy loopy ooy \")\n",
    "x"
   ]
  },
  {
   "cell_type": "code",
   "execution_count": 39,
   "id": "27659bff",
   "metadata": {},
   "outputs": [
    {
     "data": {
      "text/plain": [
       "['gooey']"
      ]
     },
     "execution_count": 39,
     "metadata": {},
     "output_type": "execute_result"
    }
   ],
   "source": [
    "x = tokenize(\" gooey        \")\n",
    "x\n"
   ]
  },
  {
   "cell_type": "code",
   "execution_count": 40,
   "id": "160c42d6",
   "metadata": {},
   "outputs": [
    {
     "data": {
      "text/plain": [
       "['abc.abc.com', 'abc.abc,com']"
      ]
     },
     "execution_count": 40,
     "metadata": {},
     "output_type": "execute_result"
    }
   ],
   "source": [
    "import regex as re\n",
    "def tokenize(text):\n",
    "    return re.findall(r'abc\\.abc.com', text)\n",
    "x = tokenize(\"abc.abc.com abc.abc,com abc,abc.com ABC.abc.com \")\n",
    "x"
   ]
  },
  {
   "cell_type": "code",
   "execution_count": 41,
   "id": "c6a7e0bc",
   "metadata": {},
   "outputs": [
    {
     "name": "stdout",
     "output_type": "stream",
     "text": [
      "['The']\n",
      "[]\n"
     ]
    }
   ],
   "source": [
    "import regex as re\n",
    "def tokenize(text):\n",
    "    return re.findall(r'^The', text)\n",
    "x = tokenize(\"Them \")\n",
    "print(x)\n",
    "y= tokenize(\"them\")\n",
    "print(y)"
   ]
  },
  {
   "cell_type": "code",
   "execution_count": null,
   "id": "dce25638",
   "metadata": {},
   "outputs": [],
   "source": []
  }
 ],
 "metadata": {
  "kernelspec": {
   "display_name": "Python 3 (ipykernel)",
   "language": "python",
   "name": "python3"
  },
  "language_info": {
   "codemirror_mode": {
    "name": "ipython",
    "version": 3
   },
   "file_extension": ".py",
   "mimetype": "text/x-python",
   "name": "python",
   "nbconvert_exporter": "python",
   "pygments_lexer": "ipython3",
   "version": "3.11.5"
  }
 },
 "nbformat": 4,
 "nbformat_minor": 5
}
