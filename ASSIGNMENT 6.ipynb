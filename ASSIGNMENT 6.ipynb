{
 "cells": [
  {
   "cell_type": "markdown",
   "id": "afe83177",
   "metadata": {},
   "source": [
    "# Assignment 6"
   ]
  },
  {
   "cell_type": "markdown",
   "id": "ad9edfcd",
   "metadata": {},
   "source": [
    "# Import needed modules"
   ]
  },
  {
   "cell_type": "code",
   "execution_count": 34,
   "id": "b587f5b9",
   "metadata": {},
   "outputs": [],
   "source": [
    "from nltk.corpus import stopwords #you can remove stop words for speed\n",
    "from nltk.cluster.util import cosine_distance\n",
    "import numpy as np\n",
    "import networkx as nx"
   ]
  },
  {
   "cell_type": "markdown",
   "id": "0ed4e150",
   "metadata": {},
   "source": [
    "# Text Data 1 (FRENCH)"
   ]
  },
  {
   "cell_type": "code",
   "execution_count": 35,
   "id": "c79e5f55",
   "metadata": {},
   "outputs": [
    {
     "name": "stdout",
     "output_type": "stream",
     "text": [
      "Paris, surnommée la Ville Lumière, est la capitale de la France et l'une des villes les plus emblématiques et romantiques du monde\n",
      "Située au cœur du pays, sur la Seine, Paris est célèbre pour ses monuments historiques, sa gastronomie raffinée et son influence dans les domaines de la culture, de l'art, de la mode et du design\n",
      "Le monument le plus emblématique de Paris est sans doute la Tour Eiffel, construite par Gustave Eiffel à l'occasion de l'Exposition universelle de 1889\n",
      "Cette tour de fer de 324 mètres de haut est aujourd'hui l'un des sites les plus visités au monde.\n",
      "\n"
     ]
    }
   ],
   "source": [
    "file = open(\"C:/Users/User/Downloads/french.txt\", \"r\")\n",
    "#This file contains one paragraph of multiple sentences\n",
    "filedata = file.readlines()\n",
    "article = filedata[0].split(\". \") #Just do the first paragraph\n",
    "sentences = []\n",
    "for sentence in article:\n",
    "    print(sentence)\n",
    "    sentences.append(sentence.replace(\"[^a-zA-Z]\", \" \").split(\" \"))\n",
    "    "
   ]
  },
  {
   "cell_type": "markdown",
   "id": "652c85e3",
   "metadata": {},
   "source": [
    "# Our data: a list of sentences"
   ]
  },
  {
   "cell_type": "code",
   "execution_count": 36,
   "id": "77e32dfc",
   "metadata": {},
   "outputs": [
    {
     "name": "stdout",
     "output_type": "stream",
     "text": [
      "Sentences are  [['Paris,', 'surnommée', 'la', 'Ville', 'Lumière,', 'est', 'la', 'capitale', 'de', 'la', 'France', 'et', \"l'une\", 'des', 'villes', 'les', 'plus', 'emblématiques', 'et', 'romantiques', 'du', 'monde'], ['Située', 'au', 'cœur', 'du', 'pays,', 'sur', 'la', 'Seine,', 'Paris', 'est', 'célèbre', 'pour', 'ses', 'monuments', 'historiques,', 'sa', 'gastronomie', 'raffinée', 'et', 'son', 'influence', 'dans', 'les', 'domaines', 'de', 'la', 'culture,', 'de', \"l'art,\", 'de', 'la', 'mode', 'et', 'du', 'design'], ['Le', 'monument', 'le', 'plus', 'emblématique', 'de', 'Paris', 'est', 'sans', 'doute', 'la', 'Tour', 'Eiffel,', 'construite', 'par', 'Gustave', 'Eiffel', 'à', \"l'occasion\", 'de', \"l'Exposition\", 'universelle', 'de', '1889'], ['Cette', 'tour', 'de', 'fer', 'de', '324', 'mètres', 'de', 'haut', 'est', \"aujourd'hui\", \"l'un\", 'des', 'sites', 'les', 'plus', 'visités', 'au', 'monde.\\n']]\n"
     ]
    }
   ],
   "source": [
    "print(\"Sentences are \", sentences)"
   ]
  },
  {
   "cell_type": "markdown",
   "id": "4e08a038",
   "metadata": {},
   "source": [
    "# Function to calculate similarity"
   ]
  },
  {
   "cell_type": "code",
   "execution_count": 37,
   "id": "80eb39e9",
   "metadata": {},
   "outputs": [],
   "source": [
    "def sentence_similarity(sent1, sent2 ):\n",
    " sent1 = [w.lower() for w in sent1]\n",
    " sent2 = [w.lower() for w in sent2]\n",
    " all_words = list(set(sent1 + sent2))\n",
    " vector1 = [0] * len(all_words)\n",
    " vector2 = [0] * len(all_words)\n",
    "# build the vector for the first sentence\n",
    " for w in sent1:\n",
    "  vector1[all_words.index(w)] += 1\n",
    "# build the vector for the second sentence\n",
    " for w in sent2:\n",
    "  vector2[all_words.index(w)] += 1\n",
    " return 1 - cosine_distance(vector1, vector2)"
   ]
  },
  {
   "cell_type": "markdown",
   "id": "3af42687",
   "metadata": {},
   "source": [
    "# Create the similarity matrix"
   ]
  },
  {
   "cell_type": "code",
   "execution_count": 38,
   "id": "89e9a8cf",
   "metadata": {},
   "outputs": [
    {
     "name": "stdout",
     "output_type": "stream",
     "text": [
      "Smilarity matrix \n",
      " [[0. 0. 0. 0.]\n",
      " [0. 0. 0. 0.]\n",
      " [0. 0. 0. 0.]\n",
      " [0. 0. 0. 0.]]\n"
     ]
    }
   ],
   "source": [
    "similarity_matrix = np.zeros((len(sentences), len(sentences)))\n",
    "for idx1 in range(len(sentences)):\n",
    " for idx2 in range(len(sentences)):\n",
    "    if idx1 == idx2: #ignore if both are same sentences\n",
    "      continue\n",
    "      similarity_matrix[idx1][idx2] = sentence_similarity(sentences[idx1],sentences[idx2])\n",
    "print(\"Smilarity matrix \\n\", similarity_matrix)"
   ]
  },
  {
   "cell_type": "markdown",
   "id": "3434ff02",
   "metadata": {},
   "source": [
    "# Get the pagerank scores"
   ]
  },
  {
   "cell_type": "code",
   "execution_count": 39,
   "id": "49a583c7",
   "metadata": {},
   "outputs": [
    {
     "name": "stdout",
     "output_type": "stream",
     "text": [
      "scores {0: 0.25, 1: 0.25, 2: 0.25, 3: 0.25}\n"
     ]
    }
   ],
   "source": [
    "# Step 3 - Rank sentences in similarity martix\n",
    "sentence_similarity_graph = nx.from_numpy_array(similarity_matrix)\n",
    "scores = nx.pagerank(sentence_similarity_graph)\n",
    "print(\"scores\", scores)"
   ]
  },
  {
   "cell_type": "markdown",
   "id": "e8dfe574",
   "metadata": {},
   "source": [
    "# Sort sentences by pagerank"
   ]
  },
  {
   "cell_type": "code",
   "execution_count": 40,
   "id": "5c5967f8",
   "metadata": {},
   "outputs": [
    {
     "name": "stdout",
     "output_type": "stream",
     "text": [
      "Indexes of top ranked_sentence order are \n",
      "\n",
      " [(0.25, ['Située', 'au', 'cœur', 'du', 'pays,', 'sur', 'la', 'Seine,', 'Paris', 'est', 'célèbre', 'pour', 'ses', 'monuments', 'historiques,', 'sa', 'gastronomie', 'raffinée', 'et', 'son', 'influence', 'dans', 'les', 'domaines', 'de', 'la', 'culture,', 'de', \"l'art,\", 'de', 'la', 'mode', 'et', 'du', 'design']), (0.25, ['Paris,', 'surnommée', 'la', 'Ville', 'Lumière,', 'est', 'la', 'capitale', 'de', 'la', 'France', 'et', \"l'une\", 'des', 'villes', 'les', 'plus', 'emblématiques', 'et', 'romantiques', 'du', 'monde']), (0.25, ['Le', 'monument', 'le', 'plus', 'emblématique', 'de', 'Paris', 'est', 'sans', 'doute', 'la', 'Tour', 'Eiffel,', 'construite', 'par', 'Gustave', 'Eiffel', 'à', \"l'occasion\", 'de', \"l'Exposition\", 'universelle', 'de', '1889']), (0.25, ['Cette', 'tour', 'de', 'fer', 'de', '324', 'mètres', 'de', 'haut', 'est', \"aujourd'hui\", \"l'un\", 'des', 'sites', 'les', 'plus', 'visités', 'au', 'monde.\\n'])]\n"
     ]
    }
   ],
   "source": [
    "# Step 4 - Sort the rank and pick top sentences\n",
    "ranked_sentence = sorted(((scores[i],s) for i,s in enumerate(sentences)), reverse=True)\n",
    "print(\"Indexes of top ranked_sentence order are \\n\\n\",\n",
    "ranked_sentence)"
   ]
  },
  {
   "cell_type": "markdown",
   "id": "59f0b647",
   "metadata": {},
   "source": [
    "# Pick the top “n” sentences"
   ]
  },
  {
   "cell_type": "code",
   "execution_count": 41,
   "id": "009febf0",
   "metadata": {},
   "outputs": [
    {
     "name": "stdout",
     "output_type": "stream",
     "text": [
      "How many sentences do you want in the summary? 3\n"
     ]
    }
   ],
   "source": [
    "#Step 5 - How many sentences to pick\n",
    "n = int(input(\"How many sentences do you want in the summary? \"))\n",
    "#n=2\n",
    "summarize_text = []\n",
    "for i in range(n):\n",
    "  summarize_text.append(\" \".join(ranked_sentence[i][1]))"
   ]
  },
  {
   "cell_type": "markdown",
   "id": "c5aa7065",
   "metadata": {},
   "source": [
    "# Finish off by printing summary"
   ]
  },
  {
   "cell_type": "code",
   "execution_count": 42,
   "id": "ae830b18",
   "metadata": {},
   "outputs": [
    {
     "name": "stdout",
     "output_type": "stream",
     "text": [
      "Summarize Text: \n",
      " Située au cœur du pays, sur la Seine, Paris est célèbre pour ses monuments historiques, sa gastronomie raffinée et son influence dans les domaines de la culture, de l'art, de la mode et du design. Paris, surnommée la Ville Lumière, est la capitale de la France et l'une des villes les plus emblématiques et romantiques du monde. Le monument le plus emblématique de Paris est sans doute la Tour Eiffel, construite par Gustave Eiffel à l'occasion de l'Exposition universelle de 1889\n"
     ]
    }
   ],
   "source": [
    "# Step 6 - Offcourse, output the summarize text\n",
    "print(\"Summarize Text: \\n\", \". \".join(summarize_text))"
   ]
  },
  {
   "cell_type": "markdown",
   "id": "4ee5f781",
   "metadata": {},
   "source": [
    "# Text Data 2 (SPANISH)"
   ]
  },
  {
   "cell_type": "code",
   "execution_count": 43,
   "id": "f1241105",
   "metadata": {},
   "outputs": [
    {
     "name": "stdout",
     "output_type": "stream",
     "text": [
      "España, oficialmente conocida como el Reino de España, es un país ubicado en el suroeste de Europa, en la Península Ibérica\n",
      "Limita al noreste con Francia, al oeste con Portugal, al sur con el territorio británico de Gibraltar y el mar Mediterráneo, y al este y noreste con el mar Mediterráneo y el mar Cantábrico\n",
      "España es conocida por su rica historia y diversidad cultural\n",
      "Tiene una población de alrededor de 47 millones de personas y su capital es Madrid\n",
      "Además del español, el país tiene varias lenguas regionales reconocidas, como el catalán, el gallego y el vasco.El turismo es una parte importante de la economía española, con millones de visitantes que llegan cada año para disfrutar de sus playas, su deliciosa gastronomía, su arquitectura impresionante y su rica herencia cultural\n",
      "España también es famosa por sus festivales, como la Semana Santa, las Fallas de Valencia y la Feria de Abril en Sevilla.\n",
      "\n"
     ]
    }
   ],
   "source": [
    "file = open(\"C:/Users/User/Downloads/spanish 2.txt\", \"r\")\n",
    "#This file contains one paragraph of multiple sentences\n",
    "filedata = file.readlines()\n",
    "article = filedata[0].split(\". \") #Just do the first paragraph\n",
    "sentences = []\n",
    "for sentence in article:\n",
    "    print(sentence)\n",
    "    sentences.append(sentence.replace(\"[^a-zA-Z]\", \" \").split(\" \"))"
   ]
  },
  {
   "cell_type": "markdown",
   "id": "54dd443e",
   "metadata": {},
   "source": [
    "# Our data: a list of sentences"
   ]
  },
  {
   "cell_type": "code",
   "execution_count": 44,
   "id": "2fdc2137",
   "metadata": {},
   "outputs": [
    {
     "name": "stdout",
     "output_type": "stream",
     "text": [
      "Sentences are  [['España,', 'oficialmente', 'conocida', 'como', 'el', 'Reino', 'de', 'España,', 'es', 'un', 'país', 'ubicado', 'en', 'el', 'suroeste', 'de', 'Europa,', 'en', 'la', 'Península', 'Ibérica'], ['Limita', 'al', 'noreste', 'con', 'Francia,', 'al', 'oeste', 'con', 'Portugal,', 'al', 'sur', 'con', 'el', 'territorio', 'británico', 'de', 'Gibraltar', 'y', 'el', 'mar', 'Mediterráneo,', 'y', 'al', 'este', 'y', 'noreste', 'con', 'el', 'mar', 'Mediterráneo', 'y', 'el', 'mar', 'Cantábrico'], ['España', 'es', 'conocida', 'por', 'su', 'rica', 'historia', 'y', 'diversidad', 'cultural'], ['Tiene', 'una', 'población', 'de', 'alrededor', 'de', '47', 'millones', 'de', 'personas', 'y', 'su', 'capital', 'es', 'Madrid'], ['Además', 'del', 'español,', 'el', 'país', 'tiene', 'varias', 'lenguas', 'regionales', 'reconocidas,', 'como', 'el', 'catalán,', 'el', 'gallego', 'y', 'el', 'vasco.El', 'turismo', 'es', 'una', 'parte', 'importante', 'de', 'la', 'economía', 'española,', 'con', 'millones', 'de', 'visitantes', 'que', 'llegan', 'cada', 'año', 'para', 'disfrutar', 'de', 'sus', 'playas,', 'su', 'deliciosa', 'gastronomía,', 'su', 'arquitectura', 'impresionante', 'y', 'su', 'rica', 'herencia', 'cultural'], ['España', 'también', 'es', 'famosa', 'por', 'sus', 'festivales,', 'como', 'la', 'Semana', 'Santa,', 'las', 'Fallas', 'de', 'Valencia', 'y', 'la', 'Feria', 'de', 'Abril', 'en', 'Sevilla.\\n']]\n"
     ]
    }
   ],
   "source": [
    "print(\"Sentences are \", sentences)"
   ]
  },
  {
   "cell_type": "markdown",
   "id": "d6d79fc9",
   "metadata": {},
   "source": [
    "# Function to calculate similarity"
   ]
  },
  {
   "cell_type": "code",
   "execution_count": 45,
   "id": "eff6ade5",
   "metadata": {},
   "outputs": [],
   "source": [
    "def sentence_similarity(sent1, sent2 ):\n",
    " sent1 = [w.lower() for w in sent1]\n",
    " sent2 = [w.lower() for w in sent2]\n",
    " all_words = list(set(sent1 + sent2))\n",
    " vector1 = [0] * len(all_words)\n",
    " vector2 = [0] * len(all_words)\n",
    "# build the vector for the first sentence\n",
    " for w in sent1:\n",
    "  vector1[all_words.index(w)] += 1\n",
    "# build the vector for the second sentence\n",
    " for w in sent2:\n",
    "  vector2[all_words.index(w)] += 1\n",
    " return 1 - cosine_distance(vector1, vector2)"
   ]
  },
  {
   "cell_type": "markdown",
   "id": "4802b36f",
   "metadata": {},
   "source": [
    "# Create the similarity matrix"
   ]
  },
  {
   "cell_type": "code",
   "execution_count": 46,
   "id": "256d31c2",
   "metadata": {},
   "outputs": [
    {
     "name": "stdout",
     "output_type": "stream",
     "text": [
      "Smilarity matrix \n",
      " [[0. 0. 0. 0. 0. 0.]\n",
      " [0. 0. 0. 0. 0. 0.]\n",
      " [0. 0. 0. 0. 0. 0.]\n",
      " [0. 0. 0. 0. 0. 0.]\n",
      " [0. 0. 0. 0. 0. 0.]\n",
      " [0. 0. 0. 0. 0. 0.]]\n"
     ]
    }
   ],
   "source": [
    "similarity_matrix = np.zeros((len(sentences), len(sentences)))\n",
    "for idx1 in range(len(sentences)):\n",
    " for idx2 in range(len(sentences)):\n",
    "    if idx1 == idx2: #ignore if both are same sentences\n",
    "      continue\n",
    "      similarity_matrix[idx1][idx2] = sentence_similarity(sentences[idx1],sentences[idx2])\n",
    "print(\"Smilarity matrix \\n\", similarity_matrix)"
   ]
  },
  {
   "cell_type": "markdown",
   "id": "b7ab7c1f",
   "metadata": {},
   "source": [
    "# Get the pagerank scores"
   ]
  },
  {
   "cell_type": "code",
   "execution_count": 47,
   "id": "c3de5032",
   "metadata": {},
   "outputs": [
    {
     "name": "stdout",
     "output_type": "stream",
     "text": [
      "scores {0: 0.16666666666666663, 1: 0.16666666666666663, 2: 0.16666666666666663, 3: 0.16666666666666663, 4: 0.16666666666666663, 5: 0.16666666666666663}\n"
     ]
    }
   ],
   "source": [
    "# Step 3 - Rank sentences in similarity martix\n",
    "sentence_similarity_graph = nx.from_numpy_array(similarity_matrix)\n",
    "scores = nx.pagerank(sentence_similarity_graph)\n",
    "print(\"scores\", scores)"
   ]
  },
  {
   "cell_type": "markdown",
   "id": "6855110b",
   "metadata": {},
   "source": [
    "# Sort sentences by pagerank"
   ]
  },
  {
   "cell_type": "code",
   "execution_count": 48,
   "id": "0922c96c",
   "metadata": {},
   "outputs": [
    {
     "name": "stdout",
     "output_type": "stream",
     "text": [
      "Indexes of top ranked_sentence order are \n",
      "\n",
      " [(0.16666666666666663, ['Tiene', 'una', 'población', 'de', 'alrededor', 'de', '47', 'millones', 'de', 'personas', 'y', 'su', 'capital', 'es', 'Madrid']), (0.16666666666666663, ['Limita', 'al', 'noreste', 'con', 'Francia,', 'al', 'oeste', 'con', 'Portugal,', 'al', 'sur', 'con', 'el', 'territorio', 'británico', 'de', 'Gibraltar', 'y', 'el', 'mar', 'Mediterráneo,', 'y', 'al', 'este', 'y', 'noreste', 'con', 'el', 'mar', 'Mediterráneo', 'y', 'el', 'mar', 'Cantábrico']), (0.16666666666666663, ['España,', 'oficialmente', 'conocida', 'como', 'el', 'Reino', 'de', 'España,', 'es', 'un', 'país', 'ubicado', 'en', 'el', 'suroeste', 'de', 'Europa,', 'en', 'la', 'Península', 'Ibérica']), (0.16666666666666663, ['España', 'también', 'es', 'famosa', 'por', 'sus', 'festivales,', 'como', 'la', 'Semana', 'Santa,', 'las', 'Fallas', 'de', 'Valencia', 'y', 'la', 'Feria', 'de', 'Abril', 'en', 'Sevilla.\\n']), (0.16666666666666663, ['España', 'es', 'conocida', 'por', 'su', 'rica', 'historia', 'y', 'diversidad', 'cultural']), (0.16666666666666663, ['Además', 'del', 'español,', 'el', 'país', 'tiene', 'varias', 'lenguas', 'regionales', 'reconocidas,', 'como', 'el', 'catalán,', 'el', 'gallego', 'y', 'el', 'vasco.El', 'turismo', 'es', 'una', 'parte', 'importante', 'de', 'la', 'economía', 'española,', 'con', 'millones', 'de', 'visitantes', 'que', 'llegan', 'cada', 'año', 'para', 'disfrutar', 'de', 'sus', 'playas,', 'su', 'deliciosa', 'gastronomía,', 'su', 'arquitectura', 'impresionante', 'y', 'su', 'rica', 'herencia', 'cultural'])]\n"
     ]
    }
   ],
   "source": [
    "# Step 4 - Sort the rank and pick top sentences\n",
    "ranked_sentence = sorted(((scores[i],s) for i,s in enumerate(sentences)), reverse=True)\n",
    "print(\"Indexes of top ranked_sentence order are \\n\\n\",\n",
    "ranked_sentence)"
   ]
  },
  {
   "cell_type": "markdown",
   "id": "2190aef6",
   "metadata": {},
   "source": [
    "# Pick the top “n” sentences"
   ]
  },
  {
   "cell_type": "code",
   "execution_count": 49,
   "id": "0519786c",
   "metadata": {},
   "outputs": [
    {
     "name": "stdout",
     "output_type": "stream",
     "text": [
      "How many sentences do you want in the summary? 3\n"
     ]
    }
   ],
   "source": [
    "#Step 5 - How many sentences to pick\n",
    "n = int(input(\"How many sentences do you want in the summary? \"))\n",
    "#n=2\n",
    "summarize_text = []\n",
    "for i in range(n):\n",
    "  summarize_text.append(\" \".join(ranked_sentence[i][1]))"
   ]
  },
  {
   "cell_type": "markdown",
   "id": "6327e83a",
   "metadata": {},
   "source": [
    "# Finish off by printing summary"
   ]
  },
  {
   "cell_type": "code",
   "execution_count": 50,
   "id": "ee1f7356",
   "metadata": {},
   "outputs": [
    {
     "name": "stdout",
     "output_type": "stream",
     "text": [
      "Summarize Text: \n",
      " Tiene una población de alrededor de 47 millones de personas y su capital es Madrid. Limita al noreste con Francia, al oeste con Portugal, al sur con el territorio británico de Gibraltar y el mar Mediterráneo, y al este y noreste con el mar Mediterráneo y el mar Cantábrico. España, oficialmente conocida como el Reino de España, es un país ubicado en el suroeste de Europa, en la Península Ibérica\n"
     ]
    }
   ],
   "source": [
    "# Step 6 - Offcourse, output the summarize text\n",
    "print(\"Summarize Text: \\n\", \". \".join(summarize_text))"
   ]
  },
  {
   "cell_type": "markdown",
   "id": "6609a56a",
   "metadata": {},
   "source": [
    "# Text Data 3 (GERMAN)"
   ]
  },
  {
   "cell_type": "code",
   "execution_count": 51,
   "id": "e9e68d2c",
   "metadata": {},
   "outputs": [
    {
     "name": "stdout",
     "output_type": "stream",
     "text": [
      "Deutschland, offiziell die Bundesrepublik Deutschland genannt, liegt in Mitteleuropa und grenzt im Norden an die Nordsee, die Ostsee und Dänemark, im Osten an Polen und Tschechien, im Süden an Österreich und die Schweiz sowie im Westen an Frankreich, Luxemburg, Belgien und die Niederlande\n",
      "Es ist das bevölkerungsreichste Land der Europäischen Union mit einer geschätzten Bevölkerung von etwa 83 Millionen Menschen.Die Hauptstadt von Deutschland ist Berlin, aber das Land hat auch viele andere bedeutende Städte wie Hamburg, München, Köln und Frankfurt\n",
      "Deutschland ist bekannt für seine reiche Kultur, seine beeindruckende Geschichte und seine wirtschaftliche Stärke\n",
      "Es ist eine parlamentarische Demokratie und ein föderaler Staat mit 16 Bundesländern.Deutschland hat eine vielfältige Landschaft, die von den Gebirgen der Alpen und des Schwarzwaldes bis zu den flachen Ebenen im Norden reicht\n",
      "Das Land hat auch eine reiche kulturelle Tradition, die sich in der Literatur, der Musik, der Kunst und der Architektur widerspiegelt\n",
      "Berühmte deutsche Komponisten wie Ludwig van Beethoven und Johann Sebastian Bach sowie Schriftsteller wie Johann Wolfgang von Goethe haben die Welt mit ihren Werken bereichert.\n",
      "\n"
     ]
    }
   ],
   "source": [
    "file = open(\"C:/Users/User/Downloads/german.txt\", \"r\")\n",
    "#This file contains one paragraph of multiple sentences\n",
    "filedata = file.readlines()\n",
    "article = filedata[0].split(\". \") #Just do the first paragraph\n",
    "sentences = []\n",
    "for sentence in article:\n",
    "    print(sentence)\n",
    "    sentences.append(sentence.replace(\"[^a-zA-Z]\", \" \").split(\" \"))\n",
    "    \n"
   ]
  },
  {
   "cell_type": "markdown",
   "id": "6ea2ed84",
   "metadata": {},
   "source": [
    "# Our data: a list of sentences"
   ]
  },
  {
   "cell_type": "code",
   "execution_count": 52,
   "id": "2dffe78d",
   "metadata": {},
   "outputs": [
    {
     "name": "stdout",
     "output_type": "stream",
     "text": [
      "Sentences are  [['Deutschland,', 'offiziell', 'die', 'Bundesrepublik', 'Deutschland', 'genannt,', 'liegt', 'in', 'Mitteleuropa', 'und', 'grenzt', 'im', 'Norden', 'an', 'die', 'Nordsee,', 'die', 'Ostsee', 'und', 'Dänemark,', 'im', 'Osten', 'an', 'Polen', 'und', 'Tschechien,', 'im', 'Süden', 'an', 'Österreich', 'und', 'die', 'Schweiz', 'sowie', 'im', 'Westen', 'an', 'Frankreich,', 'Luxemburg,', 'Belgien', 'und', 'die', 'Niederlande'], ['Es', 'ist', 'das', 'bevölkerungsreichste', 'Land', 'der', 'Europäischen', 'Union', 'mit', 'einer', 'geschätzten', 'Bevölkerung', 'von', 'etwa', '83', 'Millionen', 'Menschen.Die', 'Hauptstadt', 'von', 'Deutschland', 'ist', 'Berlin,', 'aber', 'das', 'Land', 'hat', 'auch', 'viele', 'andere', 'bedeutende', 'Städte', 'wie', 'Hamburg,', 'München,', 'Köln', 'und', 'Frankfurt'], ['Deutschland', 'ist', 'bekannt', 'für', 'seine', 'reiche', 'Kultur,', 'seine', 'beeindruckende', 'Geschichte', 'und', 'seine', 'wirtschaftliche', 'Stärke'], ['Es', 'ist', 'eine', 'parlamentarische', 'Demokratie', 'und', 'ein', 'föderaler', 'Staat', 'mit', '16', 'Bundesländern.Deutschland', 'hat', 'eine', 'vielfältige', 'Landschaft,', 'die', 'von', 'den', 'Gebirgen', 'der', 'Alpen', 'und', 'des', 'Schwarzwaldes', 'bis', 'zu', 'den', 'flachen', 'Ebenen', 'im', 'Norden', 'reicht'], ['Das', 'Land', 'hat', 'auch', 'eine', 'reiche', 'kulturelle', 'Tradition,', 'die', 'sich', 'in', 'der', 'Literatur,', 'der', 'Musik,', 'der', 'Kunst', 'und', 'der', 'Architektur', 'widerspiegelt'], ['Berühmte', 'deutsche', 'Komponisten', 'wie', 'Ludwig', 'van', 'Beethoven', 'und', 'Johann', 'Sebastian', 'Bach', 'sowie', 'Schriftsteller', 'wie', 'Johann', 'Wolfgang', 'von', 'Goethe', 'haben', 'die', 'Welt', 'mit', 'ihren', 'Werken', 'bereichert.\\n']]\n"
     ]
    }
   ],
   "source": [
    "print(\"Sentences are \", sentences)"
   ]
  },
  {
   "cell_type": "markdown",
   "id": "790a6c00",
   "metadata": {},
   "source": [
    "# Function to calculate similarity"
   ]
  },
  {
   "cell_type": "code",
   "execution_count": 53,
   "id": "39fc7341",
   "metadata": {},
   "outputs": [],
   "source": [
    "def sentence_similarity(sent1, sent2 ):\n",
    " sent1 = [w.lower() for w in sent1]\n",
    " sent2 = [w.lower() for w in sent2]\n",
    " all_words = list(set(sent1 + sent2))\n",
    " vector1 = [0] * len(all_words)\n",
    " vector2 = [0] * len(all_words)\n",
    "# build the vector for the first sentence\n",
    " for w in sent1:\n",
    "  vector1[all_words.index(w)] += 1\n",
    "# build the vector for the second sentence\n",
    " for w in sent2:\n",
    "  vector2[all_words.index(w)] += 1\n",
    " return 1 - cosine_distance(vector1, vector2)"
   ]
  },
  {
   "cell_type": "markdown",
   "id": "bd71a491",
   "metadata": {},
   "source": [
    "# Create the similarity matrix "
   ]
  },
  {
   "cell_type": "code",
   "execution_count": 54,
   "id": "a215c57e",
   "metadata": {},
   "outputs": [
    {
     "name": "stdout",
     "output_type": "stream",
     "text": [
      "Smilarity matrix \n",
      " [[0. 0. 0. 0. 0. 0.]\n",
      " [0. 0. 0. 0. 0. 0.]\n",
      " [0. 0. 0. 0. 0. 0.]\n",
      " [0. 0. 0. 0. 0. 0.]\n",
      " [0. 0. 0. 0. 0. 0.]\n",
      " [0. 0. 0. 0. 0. 0.]]\n"
     ]
    }
   ],
   "source": [
    "similarity_matrix = np.zeros((len(sentences), len(sentences)))\n",
    "for idx1 in range(len(sentences)):\n",
    " for idx2 in range(len(sentences)):\n",
    "    if idx1 == idx2: #ignore if both are same sentences\n",
    "      continue\n",
    "      similarity_matrix[idx1][idx2] = sentence_similarity(sentences[idx1],sentences[idx2])\n",
    "print(\"Smilarity matrix \\n\", similarity_matrix)"
   ]
  },
  {
   "cell_type": "markdown",
   "id": "2d33dd81",
   "metadata": {},
   "source": [
    "# Get the pagerank scores"
   ]
  },
  {
   "cell_type": "code",
   "execution_count": 55,
   "id": "9434503e",
   "metadata": {},
   "outputs": [
    {
     "name": "stdout",
     "output_type": "stream",
     "text": [
      "scores {0: 0.16666666666666663, 1: 0.16666666666666663, 2: 0.16666666666666663, 3: 0.16666666666666663, 4: 0.16666666666666663, 5: 0.16666666666666663}\n"
     ]
    }
   ],
   "source": [
    "# Step 3 - Rank sentences in similarity martix\n",
    "sentence_similarity_graph = nx.from_numpy_array(similarity_matrix)\n",
    "scores = nx.pagerank(sentence_similarity_graph)\n",
    "print(\"scores\", scores)"
   ]
  },
  {
   "cell_type": "markdown",
   "id": "2184c455",
   "metadata": {},
   "source": [
    "# Sort sentences by pagerank"
   ]
  },
  {
   "cell_type": "code",
   "execution_count": 56,
   "id": "f0d876cb",
   "metadata": {},
   "outputs": [
    {
     "name": "stdout",
     "output_type": "stream",
     "text": [
      "Indexes of top ranked_sentence order are \n",
      "\n",
      " [(0.16666666666666663, ['Es', 'ist', 'eine', 'parlamentarische', 'Demokratie', 'und', 'ein', 'föderaler', 'Staat', 'mit', '16', 'Bundesländern.Deutschland', 'hat', 'eine', 'vielfältige', 'Landschaft,', 'die', 'von', 'den', 'Gebirgen', 'der', 'Alpen', 'und', 'des', 'Schwarzwaldes', 'bis', 'zu', 'den', 'flachen', 'Ebenen', 'im', 'Norden', 'reicht']), (0.16666666666666663, ['Es', 'ist', 'das', 'bevölkerungsreichste', 'Land', 'der', 'Europäischen', 'Union', 'mit', 'einer', 'geschätzten', 'Bevölkerung', 'von', 'etwa', '83', 'Millionen', 'Menschen.Die', 'Hauptstadt', 'von', 'Deutschland', 'ist', 'Berlin,', 'aber', 'das', 'Land', 'hat', 'auch', 'viele', 'andere', 'bedeutende', 'Städte', 'wie', 'Hamburg,', 'München,', 'Köln', 'und', 'Frankfurt']), (0.16666666666666663, ['Deutschland,', 'offiziell', 'die', 'Bundesrepublik', 'Deutschland', 'genannt,', 'liegt', 'in', 'Mitteleuropa', 'und', 'grenzt', 'im', 'Norden', 'an', 'die', 'Nordsee,', 'die', 'Ostsee', 'und', 'Dänemark,', 'im', 'Osten', 'an', 'Polen', 'und', 'Tschechien,', 'im', 'Süden', 'an', 'Österreich', 'und', 'die', 'Schweiz', 'sowie', 'im', 'Westen', 'an', 'Frankreich,', 'Luxemburg,', 'Belgien', 'und', 'die', 'Niederlande']), (0.16666666666666663, ['Deutschland', 'ist', 'bekannt', 'für', 'seine', 'reiche', 'Kultur,', 'seine', 'beeindruckende', 'Geschichte', 'und', 'seine', 'wirtschaftliche', 'Stärke']), (0.16666666666666663, ['Das', 'Land', 'hat', 'auch', 'eine', 'reiche', 'kulturelle', 'Tradition,', 'die', 'sich', 'in', 'der', 'Literatur,', 'der', 'Musik,', 'der', 'Kunst', 'und', 'der', 'Architektur', 'widerspiegelt']), (0.16666666666666663, ['Berühmte', 'deutsche', 'Komponisten', 'wie', 'Ludwig', 'van', 'Beethoven', 'und', 'Johann', 'Sebastian', 'Bach', 'sowie', 'Schriftsteller', 'wie', 'Johann', 'Wolfgang', 'von', 'Goethe', 'haben', 'die', 'Welt', 'mit', 'ihren', 'Werken', 'bereichert.\\n'])]\n"
     ]
    }
   ],
   "source": [
    "# Step 4 - Sort the rank and pick top sentences\n",
    "ranked_sentence = sorted(((scores[i],s) for i,s in enumerate(sentences)), reverse=True)\n",
    "print(\"Indexes of top ranked_sentence order are \\n\\n\",\n",
    "ranked_sentence)"
   ]
  },
  {
   "cell_type": "markdown",
   "id": "1434651f",
   "metadata": {},
   "source": [
    "# Pick the top “n” sentences"
   ]
  },
  {
   "cell_type": "code",
   "execution_count": 57,
   "id": "9eede4ac",
   "metadata": {},
   "outputs": [
    {
     "name": "stdout",
     "output_type": "stream",
     "text": [
      "How many sentences do you want in the summary? 3\n"
     ]
    }
   ],
   "source": [
    "#Step 5 - How many sentences to pick\n",
    "n = int(input(\"How many sentences do you want in the summary? \"))\n",
    "#n=2\n",
    "summarize_text = []\n",
    "for i in range(n):\n",
    "  summarize_text.append(\" \".join(ranked_sentence[i][1]))"
   ]
  },
  {
   "cell_type": "markdown",
   "id": "2645f93a",
   "metadata": {},
   "source": [
    "# Finish off by printing summary"
   ]
  },
  {
   "cell_type": "code",
   "execution_count": 58,
   "id": "794b32b5",
   "metadata": {},
   "outputs": [
    {
     "name": "stdout",
     "output_type": "stream",
     "text": [
      "Summarize Text: \n",
      " Es ist eine parlamentarische Demokratie und ein föderaler Staat mit 16 Bundesländern.Deutschland hat eine vielfältige Landschaft, die von den Gebirgen der Alpen und des Schwarzwaldes bis zu den flachen Ebenen im Norden reicht. Es ist das bevölkerungsreichste Land der Europäischen Union mit einer geschätzten Bevölkerung von etwa 83 Millionen Menschen.Die Hauptstadt von Deutschland ist Berlin, aber das Land hat auch viele andere bedeutende Städte wie Hamburg, München, Köln und Frankfurt. Deutschland, offiziell die Bundesrepublik Deutschland genannt, liegt in Mitteleuropa und grenzt im Norden an die Nordsee, die Ostsee und Dänemark, im Osten an Polen und Tschechien, im Süden an Österreich und die Schweiz sowie im Westen an Frankreich, Luxemburg, Belgien und die Niederlande\n"
     ]
    }
   ],
   "source": [
    "# Step 6 - Offcourse, output the summarize text\n",
    "print(\"Summarize Text: \\n\", \". \".join(summarize_text))"
   ]
  }
 ],
 "metadata": {
  "kernelspec": {
   "display_name": "Python 3 (ipykernel)",
   "language": "python",
   "name": "python3"
  },
  "language_info": {
   "codemirror_mode": {
    "name": "ipython",
    "version": 3
   },
   "file_extension": ".py",
   "mimetype": "text/x-python",
   "name": "python",
   "nbconvert_exporter": "python",
   "pygments_lexer": "ipython3",
   "version": "3.11.5"
  }
 },
 "nbformat": 4,
 "nbformat_minor": 5
}
